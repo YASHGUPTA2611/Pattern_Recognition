{
  "nbformat": 4,
  "nbformat_minor": 0,
  "metadata": {
    "colab": {
      "provenance": []
    },
    "kernelspec": {
      "name": "python3",
      "display_name": "Python 3"
    },
    "language_info": {
      "name": "python"
    }
  },
  "cells": [
    {
      "cell_type": "code",
      "execution_count": null,
      "metadata": {
        "id": "WxFRdOJwc_PD"
      },
      "outputs": [],
      "source": [
        "!pip install yfinance\n",
        "!pip install ta\n",
        "!pip install mpl_finance\n",
        "!pip install mplfinance"
      ]
    },
    {
      "cell_type": "code",
      "source": [
        "import pandas as pd\n",
        "import numpy as np\n",
        "import yfinance\n",
        "import ta\n",
        "from scipy.signal import argrelextrema\n",
        "from mpl_finance import candlestick_ohlc\n",
        "import matplotlib.dates as mpl_dates\n",
        "import mplfinance as mpf\n",
        "import matplotlib.pyplot as plt\n",
        "plt.rcParams['figure.figsize'] = [15, 7]\n",
        "plt.rc('font', size=14)"
      ],
      "metadata": {
        "id": "aMCdpVSmdIRW"
      },
      "execution_count": null,
      "outputs": []
    },
    {
      "cell_type": "code",
      "source": [
        "name = 'AXISBANK.NS'\n",
        "ticker = yfinance.Ticker(name)\n",
        "df = ticker.history(interval=\"1d\",start=\"2022-07-02\", end=\"2023-07-11\")\n",
        "df2 = df.copy()\n",
        "df['Date'] = pd.to_datetime(df.index)\n",
        "df['Date'] = df['Date'].apply(mpl_dates.date2num)\n",
        "df = df.loc[:,['Date', 'Open', 'High', 'Low', 'Close']]"
      ],
      "metadata": {
        "id": "v7urPUGjdLvx"
      },
      "execution_count": null,
      "outputs": []
    },
    {
      "cell_type": "code",
      "source": [
        "df2.reset_index(inplace=True)\n",
        "df2['date'] = pd.to_datetime(df2['Date'])\n",
        "df2 = df2.set_index('date')\n",
        "df2 = df2.loc[:,['Open', 'High', 'Low', 'Close']]\n",
        "df2.columns=  ['open', 'high', 'low','close']"
      ],
      "metadata": {
        "id": "JS2Au4TDC0ZD"
      },
      "execution_count": null,
      "outputs": []
    },
    {
      "cell_type": "markdown",
      "source": [
        "## Fractal Method for S/R"
      ],
      "metadata": {
        "id": "kJLVKIlPgsgn"
      }
    },
    {
      "cell_type": "code",
      "source": [
        "def isSupport(df,i):\n",
        "  support = df['Low'][i] < df['Low'][i-1]  and df['Low'][i] < df['Low'][i+1] and df['Low'][i+1] < df['Low'][i+2] and df['Low'][i-1] < df['Low'][i-2]\n",
        "  return support\n",
        "def isResistance(df,i):\n",
        "  resistance = df['High'][i] > df['High'][i-1]  and df['High'][i] > df['High'][i+1] and df['High'][i+1] > df['High'][i+2] and df['High'][i-1] > df['High'][i-2]\n",
        "  return resistance"
      ],
      "metadata": {
        "id": "apdfUhQCdOhz"
      },
      "execution_count": null,
      "outputs": []
    },
    {
      "cell_type": "code",
      "source": [
        "def using_extremas(points_to_consider):\n",
        "  price_data_low = df['Low'].values\n",
        "  price_data_high = df['High'].values\n",
        "  local_minima_indices = argrelextrema(price_data_low, np.less, order = points_to_consider)[0]\n",
        "  local_maxima_indices = argrelextrema(price_data_high, np.greater , order = points_to_consider)[0]\n",
        "\n",
        "  return local_minima_indices, local_maxima_indices\n",
        "local_minima_indices, local_maxima_indices = using_extremas(10)"
      ],
      "metadata": {
        "id": "4ADnmRYCTouF"
      },
      "execution_count": null,
      "outputs": []
    },
    {
      "cell_type": "code",
      "source": [
        "# plt.style.use('fivethirtyeight')\n",
        "# plt.rcParams['figure.figsize'] = (20, 10)\n",
        "# def get_ci(high, low, close, lookback):\n",
        "#     tr1 = pd.DataFrame(high - low).rename(columns = {0:'tr1'})\n",
        "#     tr2 = pd.DataFrame(abs(high - close.shift(1))).rename(columns = {0:'tr2'})\n",
        "#     tr3 = pd.DataFrame(abs(low - close.shift(1))).rename(columns = {0:'tr3'})\n",
        "#     frames = [tr1, tr2, tr3]\n",
        "#     tr = pd.concat(frames, axis = 1, join = 'inner').dropna().max(axis = 1)\n",
        "#     atr = tr.rolling(1).mean()\n",
        "#     highh = high.rolling(lookback).max()\n",
        "#     lowl = low.rolling(lookback).min()\n",
        "#     ci = 100 * np.log10((atr.rolling(lookback).sum()) / (highh - lowl)) / np.log10(lookback)\n",
        "#     return ci\n",
        "\n",
        "# df2['ci_14'] = get_ci(df2['high'], df2['low'], df2['close'], 10)\n",
        "\n",
        "# ax1 = plt.subplot2grid((11,1,), (0,0), rowspan = 5, colspan = 1)\n",
        "# ax2 = plt.subplot2grid((11,1,), (6,0), rowspan = 4, colspan = 1)\n",
        "# ax1.plot(df2['close'], linewidth = 2.5, color = '#2196f3')\n",
        "# ax1.set_title('TSLA CLOSING PRICES')\n",
        "# ax2.plot(df2['ci_14'], linewidth = 2.5, color = '#fb8c00')\n",
        "# ax2.axhline(38.2, linestyle = '--', linewidth = 1.5, color = 'grey')\n",
        "# ax2.axhline(61.8, linestyle = '--', linewidth = 1.5, color = 'grey')\n",
        "# ax2.set_title('TSLA CHOPPINESS INDEX 14')\n",
        "# plt.show()"
      ],
      "metadata": {
        "id": "se6sZOPh11qt"
      },
      "execution_count": null,
      "outputs": []
    },
    {
      "cell_type": "code",
      "source": [],
      "metadata": {
        "id": "-wSeRhLF2aWB"
      },
      "execution_count": null,
      "outputs": []
    },
    {
      "cell_type": "code",
      "source": [
        "opening_gap_up_index = []\n",
        "opening_gap_down_index = []\n",
        "def using_gap():\n",
        "  for i in range(1, len(df)):\n",
        "    if (df['Low'][i] - df['High'][i-1]) > 0:\n",
        "      if ((df['Low'][i] - df['High'][i-1]) / df['High'][i-1] ) * 100 > 0.5:\n",
        "        opening_gap_up_index.append(i)\n",
        "    elif (df['High'][i] - df['Low'][i-1]) <0 :\n",
        "      if ((df['Low'][i-1] - df['High'][i]) / df['Low'][i-1] ) * 100 > 0.5:\n",
        "        opening_gap_down_index.append(i)\n",
        "using_gap()"
      ],
      "metadata": {
        "id": "AP0IHHR8vlo4"
      },
      "execution_count": null,
      "outputs": []
    },
    {
      "cell_type": "code",
      "source": [
        "s =  np.mean(df['High'] - df['Low'])\n",
        "def isFarFromLevel(l):\n",
        "   return np.sum([abs(l-x) < s  for x in levels]) == 0"
      ],
      "metadata": {
        "id": "NOG5S1t0dacI"
      },
      "execution_count": null,
      "outputs": []
    },
    {
      "cell_type": "code",
      "source": [
        "levels = []\n",
        "index = []\n",
        "method = []\n",
        "for i in range(2,df.shape[0]-2):\n",
        "  if isSupport(df,i):\n",
        "    l = df['Low'][i]\n",
        "    if isFarFromLevel(l):\n",
        "      levels.append(l)\n",
        "      index.append(i)\n",
        "      method.append('fractal')\n",
        "  elif isResistance(df,i):\n",
        "    l = df['High'][i]\n",
        "    if isFarFromLevel(l):\n",
        "      levels.append(l)\n",
        "      index.append(i)\n",
        "      method.append('fractal')\n",
        "  elif i in local_minima_indices:\n",
        "    l = df['Low'][i]\n",
        "    if isFarFromLevel(l):\n",
        "      levels.append(l)\n",
        "      index.append(i)\n",
        "      method.append('extrema')\n",
        "\n",
        "  elif i in local_maxima_indices:\n",
        "    l = df['High'][i]\n",
        "    if isFarFromLevel(l):\n",
        "      levels.append(l)\n",
        "      index.append(i)\n",
        "      method.append('extrema')\n",
        "\n",
        "  elif i in opening_gap_up_index:\n",
        "    if isFarFromLevel(l):\n",
        "      l = df['Low'][i]\n",
        "      levels.append(l)\n",
        "      index.append(i)\n",
        "      method.append('gap_up')\n",
        "\n",
        "  elif i in opening_gap_down_index:\n",
        "    if isFarFromLevel(l):\n",
        "      l = df['High'][i]\n",
        "      levels.append(l)\n",
        "      index.append(i)\n",
        "      method.append('gap_down')\n",
        "\n"
      ],
      "metadata": {
        "id": "DMwsvUeadcSs"
      },
      "execution_count": null,
      "outputs": []
    },
    {
      "cell_type": "code",
      "source": [
        "s_r_df = pd.DataFrame()"
      ],
      "metadata": {
        "id": "s6Z12DpOUatH"
      },
      "execution_count": null,
      "outputs": []
    },
    {
      "cell_type": "code",
      "source": [
        "s_r_df['Index_value'] = index\n",
        "s_r_df['Price'] = levels\n",
        "s_r_df['method'] = method"
      ],
      "metadata": {
        "id": "LV1d4-kjBX4A"
      },
      "execution_count": null,
      "outputs": []
    },
    {
      "cell_type": "code",
      "source": [
        "s_r_df"
      ],
      "metadata": {
        "id": "bHfQT9AIPRvN"
      },
      "execution_count": null,
      "outputs": []
    },
    {
      "cell_type": "code",
      "source": [
        "def plot_all():\n",
        "  fig, ax = plt.subplots()\n",
        "  candlestick_ohlc(ax,df.values,width=0.6, \\\n",
        "                   colorup='green', colordown='red', alpha=0.8)\n",
        "  date_format = mpl_dates.DateFormatter('%d %b %Y')\n",
        "  ax.xaxis.set_major_formatter(date_format)\n",
        "  fig.autofmt_xdate()\n",
        "  fig.tight_layout()\n",
        "  for i in range(len(s_r_df)):\n",
        "    plt.hlines(s_r_df['Price'][i],xmin=df['Date'][s_r_df['Index_value'][i]],\\\n",
        "               xmax=max(df['Date']),colors='blue')\n",
        "  fig.show()"
      ],
      "metadata": {
        "id": "emILeSr3foVh"
      },
      "execution_count": null,
      "outputs": []
    },
    {
      "cell_type": "code",
      "source": [
        "plot_all()"
      ],
      "metadata": {
        "id": "t_qX4AqGdeB8"
      },
      "execution_count": null,
      "outputs": []
    },
    {
      "cell_type": "markdown",
      "source": [
        "## Trendlines\n",
        "\n"
      ],
      "metadata": {
        "id": "bWj5hsbdg7Gm"
      }
    },
    {
      "cell_type": "code",
      "source": [
        "\n",
        "import pandas as pd\n",
        "import numpy as np\n",
        "import matplotlib.pyplot as plt\n",
        "plt.rcParams['figure.figsize'] = [15, 7]\n",
        "plt.rc('font', size=14)\n",
        "\n",
        "\n",
        "def check_trend_line(support: bool, pivot: int, slope: float, y: np.array):\n",
        "    # compute sum of differences between line and prices,\n",
        "    # return negative val if invalid\n",
        "\n",
        "    # Find the intercept of the line going through pivot point with given slope\n",
        "    intercept = -slope * pivot + y[pivot]\n",
        "    line_vals = slope * np.arange(len(y)) + intercept\n",
        "\n",
        "    diffs = line_vals - y\n",
        "\n",
        "    # Check to see if the line is valid, return -1 if it is not valid.\n",
        "    if support and diffs.max() > 1e-5:\n",
        "        return -1.0\n",
        "    elif not support and diffs.min() < -1e-5:\n",
        "        return -1.0\n",
        "\n",
        "    # Squared sum of diffs between data and line\n",
        "    err = (diffs ** 2.0).sum()\n",
        "    return err;\n",
        "\n",
        "\n",
        "def optimize_slope(support: bool, pivot:int , init_slope: float, y: np.array):\n",
        "\n",
        "    # Amount to change slope by. Multiplyed by opt_step\n",
        "    slope_unit = (y.max() - y.min()) / len(y)\n",
        "\n",
        "    # Optmization variables\n",
        "    opt_step = 1.0\n",
        "    min_step = 0.0001\n",
        "    curr_step = opt_step # current step\n",
        "\n",
        "    # Initiate at the slope of the line of best fit\n",
        "    best_slope = init_slope\n",
        "    best_err = check_trend_line(support, pivot, init_slope, y)\n",
        "    assert(best_err >= 0.0) # Shouldn't ever fail with initial slope\n",
        "\n",
        "    get_derivative = True\n",
        "    derivative = None\n",
        "    while curr_step > min_step:\n",
        "\n",
        "        if get_derivative:\n",
        "            # Numerical differentiation, increase slope by very small amount\n",
        "            # to see if error increases/decreases.\n",
        "            # Gives us the direction to change slope.\n",
        "            slope_change = best_slope + slope_unit * min_step\n",
        "            test_err = check_trend_line(support, pivot, slope_change, y)\n",
        "            derivative = test_err - best_err;\n",
        "\n",
        "            # If increasing by a small amount fails,\n",
        "            # try decreasing by a small amount\n",
        "            if test_err < 0.0:\n",
        "                slope_change = best_slope - slope_unit * min_step\n",
        "                test_err = check_trend_line(support, pivot, slope_change, y)\n",
        "                derivative = best_err - test_err\n",
        "\n",
        "            if test_err < 0.0: # Derivative failed, give up\n",
        "                raise Exception(\"Derivative failed. Check your data. \")\n",
        "\n",
        "            get_derivative = False\n",
        "\n",
        "        if derivative > 0.0: # Increasing slope increased error\n",
        "            test_slope = best_slope - slope_unit * curr_step\n",
        "        else: # Increasing slope decreased error\n",
        "            test_slope = best_slope + slope_unit * curr_step\n",
        "\n",
        "\n",
        "        test_err = check_trend_line(support, pivot, test_slope, y)\n",
        "        if test_err < 0 or test_err >= best_err:\n",
        "            # slope failed/didn't reduce error\n",
        "            curr_step *= 0.5 # Reduce step size\n",
        "        else: # test slope reduced error\n",
        "            best_err = test_err\n",
        "            best_slope = test_slope\n",
        "            get_derivative = True # Recompute derivative\n",
        "\n",
        "    # Optimize done, return best slope and intercept\n",
        "    return (best_slope, -best_slope * pivot + y[pivot])\n",
        "\n",
        "\n",
        "def fit_trendlines_single(data: np.array):\n",
        "    # find line of best fit (least squared)\n",
        "    # coefs[0] = slope,  coefs[1] = intercept\n",
        "    x = np.arange(len(data))\n",
        "    coefs = np.polyfit(x, data, 1)\n",
        "\n",
        "    # Get points of line.\n",
        "    line_points = coefs[0] * x + coefs[1]\n",
        "\n",
        "    # Find upper and lower pivot points\n",
        "    upper_pivot = (data - line_points).argmax()\n",
        "    lower_pivot = (data - line_points).argmin()\n",
        "\n",
        "    # Optimize the slope for both trend lines\n",
        "    support_coefs = optimize_slope(True, lower_pivot, coefs[0], data)\n",
        "    resist_coefs = optimize_slope(False, upper_pivot, coefs[0], data)\n",
        "\n",
        "    return (support_coefs, resist_coefs)\n",
        "\n",
        "\n",
        "\n",
        "def fit_trendlines_high_low(high: np.array, low: np.array, close: np.array):\n",
        "    x = np.arange(len(close))\n",
        "    coefs = np.polyfit(x, close, 1)\n",
        "    # coefs[0] = slope,  coefs[1] = intercept\n",
        "    line_points = coefs[0] * x + coefs[1]\n",
        "    upper_pivot = (high - line_points).argmax()\n",
        "    lower_pivot = (low - line_points).argmin()\n",
        "\n",
        "    support_coefs = optimize_slope(True, lower_pivot, coefs[0], low)\n",
        "    resist_coefs = optimize_slope(False, upper_pivot, coefs[0], high)\n",
        "\n",
        "    return (support_coefs, resist_coefs)\n",
        "\n",
        "\n",
        "\n",
        "\n",
        "\n",
        "\n",
        "\n",
        "\n",
        "\n"
      ],
      "metadata": {
        "id": "xPzP6t9ng9v1"
      },
      "execution_count": null,
      "outputs": []
    },
    {
      "cell_type": "code",
      "source": [
        "\n",
        "data = df2.copy()\n",
        "candles = data.iloc[-150:-5] # Last 30 candles in data\n",
        "support_coefs_c, resist_coefs_c = fit_trendlines_single(candles['close'])\n",
        "support_coefs, resist_coefs = fit_trendlines_high_low(candles['high'], candles['low'], candles['close'])\n",
        "\n",
        "support_line_c = support_coefs_c[0] * np.arange(len(candles)) + support_coefs_c[1]\n",
        "resist_line_c = resist_coefs_c[0] * np.arange(len(candles)) + resist_coefs_c[1]\n",
        "\n",
        "support_line = support_coefs[0] * np.arange(len(candles)) + support_coefs[1]\n",
        "resist_line = resist_coefs[0] * np.arange(len(candles)) + resist_coefs[1]\n",
        "\n",
        "plt.style.use('dark_background')\n",
        "ax = plt.gca()\n",
        "\n",
        "def get_line_points(candles, line_points):\n",
        "    idx = candles.index\n",
        "    line_i = len(candles) - len(line_points)\n",
        "    assert(line_i >= 0)\n",
        "    points = []\n",
        "    for i in range(line_i, len(candles)):\n",
        "        points.append((idx[i], line_points[i - line_i]))\n",
        "    return points\n",
        "\n",
        "s_seq = get_line_points(candles, support_line)\n",
        "r_seq = get_line_points(candles, resist_line)\n",
        "s_seq2 = get_line_points(candles, support_line_c)\n",
        "r_seq2 = get_line_points(candles, resist_line_c)\n",
        "mpf.plot(candles, alines=dict(alines=[s_seq, r_seq, s_seq2, r_seq2], colors=['w', 'w', 'b', 'b']), type='candle', style='charles', ax=ax)\n",
        "plt.show()"
      ],
      "metadata": {
        "id": "JrrwYdUGg9yu",
        "colab": {
          "base_uri": "https://localhost:8080/",
          "height": 235
        },
        "outputId": "e96c66c0-baab-4f3a-ae7b-71c79ac74abe"
      },
      "execution_count": null,
      "outputs": [
        {
          "output_type": "error",
          "ename": "NameError",
          "evalue": "ignored",
          "traceback": [
            "\u001b[0;31m---------------------------------------------------------------------------\u001b[0m",
            "\u001b[0;31mNameError\u001b[0m                                 Traceback (most recent call last)",
            "\u001b[0;32m<ipython-input-1-94523bca6392>\u001b[0m in \u001b[0;36m<cell line: 1>\u001b[0;34m()\u001b[0m\n\u001b[0;32m----> 1\u001b[0;31m \u001b[0mdata\u001b[0m \u001b[0;34m=\u001b[0m \u001b[0mdf2\u001b[0m\u001b[0;34m.\u001b[0m\u001b[0mcopy\u001b[0m\u001b[0;34m(\u001b[0m\u001b[0;34m)\u001b[0m\u001b[0;34m\u001b[0m\u001b[0;34m\u001b[0m\u001b[0m\n\u001b[0m\u001b[1;32m      2\u001b[0m \u001b[0mcandles\u001b[0m \u001b[0;34m=\u001b[0m \u001b[0mdata\u001b[0m\u001b[0;34m.\u001b[0m\u001b[0miloc\u001b[0m\u001b[0;34m[\u001b[0m\u001b[0;34m-\u001b[0m\u001b[0;36m150\u001b[0m\u001b[0;34m:\u001b[0m\u001b[0;34m-\u001b[0m\u001b[0;36m5\u001b[0m\u001b[0;34m]\u001b[0m \u001b[0;31m# Last 30 candles in data\u001b[0m\u001b[0;34m\u001b[0m\u001b[0;34m\u001b[0m\u001b[0m\n\u001b[1;32m      3\u001b[0m \u001b[0msupport_coefs_c\u001b[0m\u001b[0;34m,\u001b[0m \u001b[0mresist_coefs_c\u001b[0m \u001b[0;34m=\u001b[0m \u001b[0mfit_trendlines_single\u001b[0m\u001b[0;34m(\u001b[0m\u001b[0mcandles\u001b[0m\u001b[0;34m[\u001b[0m\u001b[0;34m'close'\u001b[0m\u001b[0;34m]\u001b[0m\u001b[0;34m)\u001b[0m\u001b[0;34m\u001b[0m\u001b[0;34m\u001b[0m\u001b[0m\n\u001b[1;32m      4\u001b[0m \u001b[0msupport_coefs\u001b[0m\u001b[0;34m,\u001b[0m \u001b[0mresist_coefs\u001b[0m \u001b[0;34m=\u001b[0m \u001b[0mfit_trendlines_high_low\u001b[0m\u001b[0;34m(\u001b[0m\u001b[0mcandles\u001b[0m\u001b[0;34m[\u001b[0m\u001b[0;34m'high'\u001b[0m\u001b[0;34m]\u001b[0m\u001b[0;34m,\u001b[0m \u001b[0mcandles\u001b[0m\u001b[0;34m[\u001b[0m\u001b[0;34m'low'\u001b[0m\u001b[0;34m]\u001b[0m\u001b[0;34m,\u001b[0m \u001b[0mcandles\u001b[0m\u001b[0;34m[\u001b[0m\u001b[0;34m'close'\u001b[0m\u001b[0;34m]\u001b[0m\u001b[0;34m)\u001b[0m\u001b[0;34m\u001b[0m\u001b[0;34m\u001b[0m\u001b[0m\n\u001b[1;32m      5\u001b[0m \u001b[0;34m\u001b[0m\u001b[0m\n",
            "\u001b[0;31mNameError\u001b[0m: name 'df2' is not defined"
          ]
        }
      ]
    },
    {
      "cell_type": "code",
      "source": [],
      "metadata": {
        "id": "Q10_N_zVg92U"
      },
      "execution_count": null,
      "outputs": []
    },
    {
      "cell_type": "markdown",
      "source": [
        "## Applying FIlter"
      ],
      "metadata": {
        "id": "9mb52mEIhpTD"
      }
    },
    {
      "cell_type": "code",
      "source": [
        "if trendline_price_diff_min < 3 and s_r_diff < 3:\n",
        "  print('YES !!')\n",
        "else:\n",
        "  print(\"NOT MET THE CONDITION\")"
      ],
      "metadata": {
        "id": "2I_ivF7Mg-DE"
      },
      "execution_count": null,
      "outputs": []
    },
    {
      "cell_type": "code",
      "source": [],
      "metadata": {
        "id": "4iPoqRMog-Lw"
      },
      "execution_count": null,
      "outputs": []
    },
    {
      "cell_type": "code",
      "source": [],
      "metadata": {
        "id": "0YXcCvOqg-Pc"
      },
      "execution_count": null,
      "outputs": []
    },
    {
      "cell_type": "code",
      "source": [],
      "metadata": {
        "id": "KTxMePKYdgcO"
      },
      "execution_count": null,
      "outputs": []
    }
  ]
}